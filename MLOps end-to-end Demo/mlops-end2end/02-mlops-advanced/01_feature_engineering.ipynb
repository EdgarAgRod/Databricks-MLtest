{
 "cells": [
  {
   "cell_type": "code",
   "execution_count": 0,
   "metadata": {
    "application/vnd.databricks.v1+cell": {
     "cellMetadata": {},
     "inputWidgets": {},
     "nuid": "9445e7c8-13f7-498c-a29b-076e84acb47e",
     "showTitle": false,
     "tableResultSettingsMap": {},
     "title": ""
    }
   },
   "outputs": [],
   "source": [
    "#dbutils.widgets.dropdown(\"force_refresh_automl\", \"true\", [\"false\", \"true\"], \"Restart AutoML run\")"
   ]
  },
  {
   "cell_type": "markdown",
   "metadata": {
    "application/vnd.databricks.v1+cell": {
     "cellMetadata": {},
     "inputWidgets": {},
     "nuid": "8837416d-f3f0-493f-a264-ae4a2c38cba9",
     "showTitle": false,
     "tableResultSettingsMap": {},
     "title": null
    }
   },
   "source": [
    "### A cluster has been created for this demo\n",
    "To run this demo, just select the cluster `dbdemos-mlops-end2end-edgar_aguilerarod` from the dropdown menu ([open cluster configuration](https://dbc-07122dbb-1c85.cloud.databricks.com/#setting/clusters/0102-173414-9ev1v92w/configuration)). <br />\n",
    "*Note: If the cluster was deleted after 30 days, you can re-create it with `dbdemos.create_cluster('mlops-end2end')` or re-install the demo: `dbdemos.install('mlops-end2end')`*"
   ]
  },
  {
   "cell_type": "markdown",
   "metadata": {
    "application/vnd.databricks.v1+cell": {
     "cellMetadata": {},
     "inputWidgets": {},
     "nuid": "5f6f0172-2445-4544-ba0e-1e59dab6ee36",
     "showTitle": false,
     "tableResultSettingsMap": {},
     "title": ""
    }
   },
   "source": [
    "# Churn Prediction Feature Engineering\n",
    "Our first step is to analyze the data and build the features we'll use to train our model. Let's see how this can be done.\n",
    "\n",
    "<img src=\"https://github.com/databricks-demos/dbdemos-resources/blob/main/images/product/mlops/advanced/banners/mlflow-uc-end-to-end-advanced-1.png?raw=true\" width=\"1200\">\n",
    "\n",
    "<!-- Collect usage data (view). Remove it to disable collection. View README for more details.  -->\n",
    "<img width=\"1px\" src=\"https://ppxrzfxige.execute-api.us-west-2.amazonaws.com/v1/analytics?category=data-science&org_id=1832744760933926&notebook=%2F02-mlops-advanced%2F01_feature_engineering&demo_name=mlops-end2end&event=VIEW&path=%2F_dbdemos%2Fdata-science%2Fmlops-end2end%2F02-mlops-advanced%2F01_feature_engineering&version=1\">\n",
    "<!-- [metadata={\"description\":\"MLOps end2end workflow: Feature engineering\",\n",
    " \"authors\":[\"quentin.ambard@databricks.com\"],\n",
    " \"db_resources\":{},\n",
    "  \"search_tags\":{\"vertical\": \"retail\", \"step\": \"Data Engineering\", \"components\": [\"feature store\"]},\n",
    "                 \"canonicalUrl\": {\"AWS\": \"\", \"Azure\": \"\", \"GCP\": \"\"}}] -->"
   ]
  },
  {
   "cell_type": "code",
   "execution_count": 0,
   "metadata": {
    "application/vnd.databricks.v1+cell": {
     "cellMetadata": {},
     "inputWidgets": {},
     "nuid": "e246da03-51f8-404a-a141-770f1d05d685",
     "showTitle": false,
     "tableResultSettingsMap": {},
     "title": ""
    }
   },
   "outputs": [],
   "source": [
    "%pip install --quiet mlflow==2.14.3\n",
    "dbutils.library.restartPython()"
   ]
  },
  {
   "cell_type": "code",
   "execution_count": 0,
   "metadata": {
    "application/vnd.databricks.v1+cell": {
     "cellMetadata": {},
     "inputWidgets": {},
     "nuid": "f7332299-fb7b-4b62-9c65-71acf3fb5706",
     "showTitle": false,
     "tableResultSettingsMap": {},
     "title": ""
    },
    "jupyter": {
     "outputs_hidden": true
    }
   },
   "outputs": [],
   "source": [
    "%run ../_resources/00-setup $reset_all_data=false $adv_mlops=true"
   ]
  },
  {
   "cell_type": "markdown",
   "metadata": {
    "application/vnd.databricks.v1+cell": {
     "cellMetadata": {},
     "inputWidgets": {},
     "nuid": "00c6aa2a-ac52-4b30-8d38-88c2c39aa3aa",
     "showTitle": false,
     "tableResultSettingsMap": {},
     "title": ""
    }
   },
   "source": [
    "## Exploratory Data Anaylsis\n",
    "To get a feel of the data, what needs cleaning, pre-processing etc.\n",
    "- **Use Databricks's native visualization tools**\n",
    "- Bring your own visualization library of choice (i.e. seaborn, plotly)"
   ]
  },
  {
   "cell_type": "code",
   "execution_count": 0,
   "metadata": {
    "application/vnd.databricks.v1+cell": {
     "cellMetadata": {},
     "inputWidgets": {},
     "nuid": "b1b62606-c11c-4ccb-8588-3bf2a42c6bda",
     "showTitle": true,
     "tableResultSettingsMap": {},
     "title": "Read in Bronze Delta table using Spark"
    }
   },
   "outputs": [],
   "source": [
    "# Read into spark dataframe\n",
    "telcoDF = spark.read.table(\"advanced_churn_bronze_customers\")\n",
    "display(telcoDF)"
   ]
  },
  {
   "cell_type": "markdown",
   "metadata": {
    "application/vnd.databricks.v1+cell": {
     "cellMetadata": {},
     "inputWidgets": {},
     "nuid": "6c949683-d1eb-4478-8d49-caeb54999d83",
     "showTitle": false,
     "tableResultSettingsMap": {},
     "title": ""
    }
   },
   "source": [
    "## Define Featurization Logic(s) for BATCH feature computation\n",
    "\n",
    "1. Compute number of active services\n",
    "2. Clean-up names and manual mapping\n",
    "\n",
    "_This can also work for streaming based features_"
   ]
  },
  {
   "cell_type": "markdown",
   "metadata": {
    "application/vnd.databricks.v1+cell": {
     "cellMetadata": {},
     "inputWidgets": {},
     "nuid": "81290bcb-4327-4e19-9bbe-dd2e06afd856",
     "showTitle": false,
     "tableResultSettingsMap": {},
     "title": ""
    }
   },
   "source": [
    "### Using PandasUDF and PySpark\n",
    "To scale pandas analytics on a spark dataframe"
   ]
  },
  {
   "cell_type": "code",
   "execution_count": 0,
   "metadata": {
    "application/vnd.databricks.v1+cell": {
     "cellMetadata": {},
     "inputWidgets": {},
     "nuid": "542b582e-02be-4b33-ac9c-fdfc122a4ba4",
     "showTitle": false,
     "tableResultSettingsMap": {},
     "title": ""
    }
   },
   "outputs": [],
   "source": [
    "from pyspark.sql import DataFrame as SparkDataFrame\n",
    "from pyspark.sql.functions import pandas_udf, col, when, lit\n",
    "\n",
    "\n",
    "#  Count number of optional services enabled, like streaming TV\n",
    "def compute_service_features(inputDF: SparkDataFrame) -> SparkDataFrame:\n",
    "  # Create pandas UDF function\n",
    "  @pandas_udf('double')\n",
    "  def num_optional_services(*cols):\n",
    "    # Nested helper function to count number of optional services in a pandas dataframe\n",
    "    return sum(map(lambda s: (s == \"Yes\").astype('double'), cols))\n",
    "\n",
    "  return inputDF.\\\n",
    "    withColumn(\"num_optional_services\",\n",
    "        num_optional_services(\"online_security\", \"online_backup\", \"device_protection\", \"tech_support\", \"streaming_tv\", \"streaming_movies\"))"
   ]
  },
  {
   "cell_type": "markdown",
   "metadata": {
    "application/vnd.databricks.v1+cell": {
     "cellMetadata": {},
     "inputWidgets": {},
     "nuid": "2efc2f35-a3ff-492d-b54e-44f7d77e9076",
     "showTitle": false,
     "tableResultSettingsMap": {},
     "title": ""
    }
   },
   "source": [
    "### Using Pandas On Spark API\n",
    "\n",
    "Because our Data Scientist team is familiar with Pandas, we'll use the [pandas on spark API](https://spark.apache.org/docs/latest/api/python/reference/pyspark.pandas/index.html) to scale `pandas` code. The Pandas instructions will be converted in the spark engine under the hood and distributed at scale.\n",
    "\n",
    "*Note: Starting from `spark 3.2`, koalas is builtin and we can get an Pandas Dataframe using `pandas_api()`.*"
   ]
  },
  {
   "cell_type": "code",
   "execution_count": 0,
   "metadata": {
    "application/vnd.databricks.v1+cell": {
     "cellMetadata": {},
     "inputWidgets": {},
     "nuid": "52b1075f-9e37-4bed-90fd-574ce13ba7b6",
     "showTitle": true,
     "tableResultSettingsMap": {},
     "title": "Define featurization function"
    }
   },
   "outputs": [],
   "source": [
    "def clean_churn_features(dataDF: SparkDataFrame) -> SparkDataFrame:\n",
    "  \"\"\"\n",
    "  Simple cleaning function leveraging pandas API\n",
    "  \"\"\"\n",
    "\n",
    "  # Convert to pandas on spark dataframe\n",
    "  data_psdf = dataDF.pandas_api()\n",
    "\n",
    "  # Convert some columns\n",
    "  data_psdf[\"senior_citizen\"] = data_psdf[\"senior_citizen\"].map({1 : \"Yes\", 0 : \"No\"})\n",
    "  data_psdf = data_psdf.astype({\"total_charges\": \"double\", \"senior_citizen\": \"string\"})\n",
    "\n",
    "  # Fill some missing numerical values with 0\n",
    "  data_psdf = data_psdf.fillna({\"tenure\": 0.0})\n",
    "  data_psdf = data_psdf.fillna({\"monthly_charges\": 0.0})\n",
    "  data_psdf = data_psdf.fillna({\"total_charges\": 0.0})\n",
    "\n",
    "  # Add/Force semantic data types for specific colums (to facilitate autoML)\n",
    "  data_cleanDF = data_psdf.to_spark()\n",
    "  data_cleanDF = data_cleanDF.withMetadata(\"customer_id\", {\"spark.contentAnnotation.semanticType\":\"native\"})\n",
    "  data_cleanDF = data_cleanDF.withMetadata(\"num_optional_services\", {\"spark.contentAnnotation.semanticType\":\"numeric\"})\n",
    "\n",
    "  return data_cleanDF"
   ]
  },
  {
   "cell_type": "markdown",
   "metadata": {
    "application/vnd.databricks.v1+cell": {
     "cellMetadata": {},
     "inputWidgets": {},
     "nuid": "fba28e98-6b04-42ce-ba55-1da87c526d5a",
     "showTitle": false,
     "tableResultSettingsMap": {},
     "title": ""
    }
   },
   "source": [
    "\n",
    "## Compute & Write to Feature Store\n",
    "\n",
    "Once our features are ready, we'll save them in Databricks Feature Store. Any Delta Table registered to Unity Catalog can be used as a feature table.\n",
    "\n",
    "This will allows us to leverage Unity Catalog for governance, discoverability and reusability of our features accross our organization, as well as increasing team efficiency.\n",
    "\n",
    "The lineage capability in Unity Catalog brings traceability and governance in our deployment, knowing which model is dependent of which feature tables."
   ]
  },
  {
   "cell_type": "code",
   "execution_count": 0,
   "metadata": {
    "application/vnd.databricks.v1+cell": {
     "cellMetadata": {},
     "inputWidgets": {},
     "nuid": "f304f3c2-0fa7-49d3-a795-84e3872ef91e",
     "showTitle": true,
     "tableResultSettingsMap": {},
     "title": "Compute Churn Features and append a timestamp"
    }
   },
   "outputs": [],
   "source": [
    "from datetime import datetime\n",
    "from pyspark.sql.functions import lit\n",
    "\n",
    "\n",
    "# Add current scoring timestamp\n",
    "this_time = (datetime.now()).timestamp()\n",
    "churn_features_n_predsDF = clean_churn_features(compute_service_features(telcoDF)) \\\n",
    "                            .withColumn(\"transaction_ts\", lit(this_time).cast(\"timestamp\"))\n",
    "\n",
    "display(churn_features_n_predsDF)"
   ]
  },
  {
   "cell_type": "markdown",
   "metadata": {
    "application/vnd.databricks.v1+cell": {
     "cellMetadata": {},
     "inputWidgets": {},
     "nuid": "dfb6ac1a-29c2-4d4e-9322-f54a16e0df99",
     "showTitle": false,
     "tableResultSettingsMap": {},
     "title": ""
    }
   },
   "source": [
    "### Extract ground-truth labels in a separate table to avoid label leakage\n",
    "* In reality ground-truth label data should be in its own separate table"
   ]
  },
  {
   "cell_type": "code",
   "execution_count": 0,
   "metadata": {
    "application/vnd.databricks.v1+cell": {
     "cellMetadata": {},
     "inputWidgets": {},
     "nuid": "1c95a6ae-c9aa-4555-a1ac-fd6617e77556",
     "showTitle": true,
     "tableResultSettingsMap": {},
     "title": "Extract ground-truth labels in a separate table and drop from Feature table"
    }
   },
   "outputs": [],
   "source": [
    "import pyspark.sql.functions as F\n",
    "\n",
    "\n",
    "# Best practice: specify train-val-test split as categorical label (to be used by automl and/or model validation jobs)\n",
    "train_ratio, val_ratio, test_ratio = 0.7, 0.2, 0.1\n",
    "\n",
    "churn_features_n_predsDF.select(\"customer_id\", \"transaction_ts\", \"churn\") \\\n",
    "                        .withColumn(\"random\", F.rand(seed=42)) \\\n",
    "                        .withColumn(\"split\",\n",
    "                                    F.when(F.col(\"random\") < train_ratio, \"train\")\n",
    "                                    .when(F.col(\"random\") < train_ratio + val_ratio, \"validate\")\n",
    "                                    .otherwise(\"test\")) \\\n",
    "                        .drop(\"random\") \\\n",
    "                        .write.format(\"delta\") \\\n",
    "                        .mode(\"overwrite\").option(\"overwriteSchema\", \"true\") \\\n",
    "                        .saveAsTable(f\"advanced_churn_label_table\")\n",
    "\n",
    "churn_featuresDF = churn_features_n_predsDF.drop(\"churn\")"
   ]
  },
  {
   "cell_type": "markdown",
   "metadata": {
    "application/vnd.databricks.v1+cell": {
     "cellMetadata": {},
     "inputWidgets": {},
     "nuid": "193cff6d-28c5-41b2-b73f-43ac3cb86fd6",
     "showTitle": false,
     "tableResultSettingsMap": {},
     "title": ""
    }
   },
   "source": [
    "Add primary keys constraints to labels table for feature lookup"
   ]
  },
  {
   "cell_type": "code",
   "execution_count": 0,
   "metadata": {
    "application/vnd.databricks.v1+cell": {
     "cellMetadata": {},
     "inputWidgets": {},
     "nuid": "5552dd30-1062-4092-82d7-33d50074cd22",
     "showTitle": false,
     "tableResultSettingsMap": {},
     "title": ""
    }
   },
   "outputs": [],
   "source": [
    "%sql\n",
    "ALTER TABLE advanced_churn_label_table ALTER COLUMN customer_id SET NOT NULL;\n",
    "ALTER TABLE advanced_churn_label_table ALTER COLUMN transaction_ts SET NOT NULL;\n",
    "ALTER TABLE advanced_churn_label_table ADD CONSTRAINT advanced_churn_label_table_pk PRIMARY KEY(customer_id, transaction_ts);"
   ]
  },
  {
   "cell_type": "markdown",
   "metadata": {
    "application/vnd.databricks.v1+cell": {
     "cellMetadata": {},
     "inputWidgets": {},
     "nuid": "e6ea513e-d573-4190-b259-0f77b1e23408",
     "showTitle": false,
     "tableResultSettingsMap": {},
     "title": ""
    }
   },
   "source": [
    "### Write the feature table to Unity Catalog\n",
    "\n",
    "With Unity Catalog, any Delta table with a primary key constraint can be used as a offline feature table.\n",
    "\n",
    "Time series feature tables have an additional primary key on the time column.\n",
    "\n",
    "After the table is created, you can write data to it like other Delta tables, and use it as a feature table.\n",
    "\n",
    "Here, we demonstrate creating the feature table using the `FeatureEngineeringClient` API. You can also easily create it using SQL:\n",
    "\n",
    "<br>\n",
    "\n",
    "```\n",
    "CREATE TABLE {catalog}.{db}.{feature_table_name} (\n",
    "  {primary_key} int NOT NULL,\n",
    "  {timestamp_col} timestamp NOT NULL,\n",
    "  feat1 long,\n",
    "  feat2 varchar(100),\n",
    "  CONSTRAINT customer_features_pk PRIMARY KEY ({primary_key}, {timestamp_col} TIMESERIES)\n",
    ");\n",
    "```\n"
   ]
  },
  {
   "cell_type": "markdown",
   "metadata": {
    "application/vnd.databricks.v1+cell": {
     "cellMetadata": {},
     "inputWidgets": {},
     "nuid": "454604fb-114e-4f05-b8ca-23549422a68b",
     "showTitle": false,
     "tableResultSettingsMap": {},
     "title": ""
    }
   },
   "source": [
    "\n",
    "First, since we are creating the feature table from scratch, we want to make sure that our environment is clean and any previously created offline/online feature tables are deleted."
   ]
  },
  {
   "cell_type": "code",
   "execution_count": 0,
   "metadata": {
    "application/vnd.databricks.v1+cell": {
     "cellMetadata": {},
     "inputWidgets": {},
     "nuid": "13b6b4dd-b94a-4581-8619-95b99408f16f",
     "showTitle": true,
     "tableResultSettingsMap": {},
     "title": "Drop any existing online table (optional)"
    }
   },
   "outputs": [],
   "source": [
    "from pprint import pprint\n",
    "from databricks.sdk import WorkspaceClient\n",
    "\n",
    "\n",
    "# Create workspace client\n",
    "w = WorkspaceClient()\n",
    "\n",
    "# Remove any existing online feature table\n",
    "try:\n",
    "  online_table_specs = w.online_tables.get(f\"{catalog}.{db}.advanced_churn_feature_table_online_table\")\n",
    "  # Drop existing online feature table\n",
    "  w.online_tables.delete(f\"{catalog}.{db}.advanced_churn_feature_table_online_table\")\n",
    "  print(f\"Dropping online feature table: {catalog}.{db}.advanced_churn_feature_table_online_table\")\n",
    "\n",
    "except Exception as e:\n",
    "  pprint(e)"
   ]
  },
  {
   "cell_type": "code",
   "execution_count": 0,
   "metadata": {
    "application/vnd.databricks.v1+cell": {
     "cellMetadata": {},
     "inputWidgets": {},
     "nuid": "62db9200-d9e4-435f-b829-d924e2df0360",
     "showTitle": true,
     "tableResultSettingsMap": {},
     "title": "Drop feature table if it already exists"
    }
   },
   "outputs": [],
   "source": [
    "%sql\n",
    "-- We are creating the feature table from scratch.\n",
    "-- Let's drop any existing feature table if it exists\n",
    "DROP TABLE IF EXISTS advanced_churn_feature_table;"
   ]
  },
  {
   "cell_type": "code",
   "execution_count": 0,
   "metadata": {
    "application/vnd.databricks.v1+cell": {
     "cellMetadata": {},
     "inputWidgets": {},
     "nuid": "a00cf801-f137-4678-b94b-a735ec0ffdb6",
     "showTitle": true,
     "tableResultSettingsMap": {},
     "title": "Import Feature Store Client"
    }
   },
   "outputs": [],
   "source": [
    "from databricks.feature_engineering import FeatureEngineeringClient\n",
    "\n",
    "\n",
    "fe = FeatureEngineeringClient()"
   ]
  },
  {
   "cell_type": "code",
   "execution_count": 0,
   "metadata": {
    "application/vnd.databricks.v1+cell": {
     "cellMetadata": {},
     "inputWidgets": {},
     "nuid": "80adcc26-8858-4d46-93c4-351b6f1c1ac8",
     "showTitle": true,
     "tableResultSettingsMap": {},
     "title": "Create \"feature\"/UC table"
    }
   },
   "outputs": [],
   "source": [
    "churn_feature_table = fe.create_table(\n",
    "  name=\"advanced_churn_feature_table\", # f\"{catalog}.{dbName}.{feature_table_name}\"\n",
    "  primary_keys=[\"customer_id\", \"transaction_ts\"],\n",
    "  schema=churn_featuresDF.schema,\n",
    "  timeseries_columns=\"transaction_ts\",\n",
    "  description=f\"These features are derived from the {catalog}.{db}.{bronze_table_name} table in the lakehouse. We created service features, cleaned up their names.  No aggregations were performed. [Warning: This table doesn't store the ground-truth and now can be used with AutoML's Feature Store integration\"\n",
    ")"
   ]
  },
  {
   "cell_type": "code",
   "execution_count": 0,
   "metadata": {
    "application/vnd.databricks.v1+cell": {
     "cellMetadata": {},
     "inputWidgets": {},
     "nuid": "e7ca69c0-7bb3-41d7-976b-76ab2e115872",
     "showTitle": true,
     "tableResultSettingsMap": {},
     "title": "Write feature values to Feature Store"
    }
   },
   "outputs": [],
   "source": [
    "fe.write_table(\n",
    "  name=f\"{catalog}.{db}.advanced_churn_feature_table\",\n",
    "  df=churn_featuresDF, # can be a streaming dataframe as well\n",
    "  mode='merge' #'merge' supports schema evolution\n",
    ")"
   ]
  },
  {
   "cell_type": "markdown",
   "metadata": {
    "application/vnd.databricks.v1+cell": {
     "cellMetadata": {},
     "inputWidgets": {},
     "nuid": "8d78a16f-b2d1-40de-9336-05e90c30d39e",
     "showTitle": false,
     "tableResultSettingsMap": {},
     "title": ""
    }
   },
   "source": [
    "## Define Featurization Logic for on-demand feature functions\n",
    "\n",
    "We will define a function for features that need to be calculated on-demand. These functions can be used in both batch/offline and serving/online inference.\n",
    "\n",
    "It is common that customers who have elevated bills of monthly charges have a higher propensity to churn. The `avg_price_increase` function calculates the potential average price increase based on their historical charges, as well as their current tenure. The function lets the model use this freshly calculated value as a feature for training and, later, scoring.\n",
    "\n",
    "This function is defined under Unity Catalog, which provides governance over who can use the function.\n",
    "\n",
    "Refer to the documentation for more information. ([AWS](https://docs.databricks.com/en/machine-learning/feature-store/on-demand-features.html)|[Azure](https://learn.microsoft.com/en-us/azure/databricks/machine-learning/feature-store/on-demand-features)) "
   ]
  },
  {
   "cell_type": "code",
   "execution_count": 0,
   "metadata": {
    "application/vnd.databricks.v1+cell": {
     "cellMetadata": {},
     "inputWidgets": {},
     "nuid": "966fd8a6-57ae-4ea5-91d0-6e701486bbe1",
     "showTitle": false,
     "tableResultSettingsMap": {},
     "title": ""
    }
   },
   "outputs": [],
   "source": [
    "%sql\n",
    "  CREATE OR REPLACE FUNCTION avg_price_increase(monthly_charges_in DOUBLE, tenure_in DOUBLE, total_charges_in DOUBLE)\n",
    "  RETURNS FLOAT\n",
    "  LANGUAGE PYTHON\n",
    "  COMMENT \"[Feature Function] Calculate potential average price increase for tenured customers based on last monthly charges and updated tenure\"\n",
    "  AS $$\n",
    "  if tenure_in > 0:\n",
    "    return monthly_charges_in - total_charges_in/tenure_in\n",
    "  else:\n",
    "    return 0\n",
    "  $$"
   ]
  },
  {
   "cell_type": "code",
   "execution_count": 0,
   "metadata": {
    "application/vnd.databricks.v1+cell": {
     "cellMetadata": {},
     "inputWidgets": {},
     "nuid": "b7d79f97-048d-460a-8321-84e36669756d",
     "showTitle": false,
     "tableResultSettingsMap": {},
     "title": ""
    }
   },
   "outputs": [],
   "source": [
    "%sql\n",
    "DESCRIBE FUNCTION avg_price_increase;"
   ]
  },
  {
   "cell_type": "markdown",
   "metadata": {
    "application/vnd.databricks.v1+cell": {
     "cellMetadata": {},
     "inputWidgets": {},
     "nuid": "09d4f01c-d540-4ddd-95b9-2cca9660abfd",
     "showTitle": false,
     "tableResultSettingsMap": {},
     "title": ""
    }
   },
   "source": [
    "\n",
    "## Accelerating Churn model creation using Databricks Auto-ML\n",
    "### A glass-box solution that empowers data teams without taking away control\n",
    "\n",
    "Databricks simplify model creation and MLOps. However, bootstraping new ML projects can still be long and inefficient.\n",
    "\n",
    "Instead of creating the same boilerplate for each new project, Databricks Auto-ML can automatically generate state of the art models for Classifications, regression, and forecast.\n",
    "\n",
    "Models can be directly deployed, or instead leverage generated notebooks to boostrap projects with best-practices, saving you weeks of efforts.\n",
    "\n",
    "<img width=\"1000\" src=\"https://github.com/QuentinAmbard/databricks-demo/raw/main/retail/resources/images/auto-ml-full.png\"/>\n",
    "\n",
    "\n",
    "<br>\n",
    "\n",
    "### Using Databricks Auto ML with our Churn dataset\n",
    "\n",
    "<br>\n",
    "\n",
    "<img style=\"float: right\" width=\"600\" src=\"https://github.com/QuentinAmbard/databricks-demo/raw/main/retail/resources/images/churn-auto-ml.png\"/>\n",
    "\n",
    "<br>\n",
    "\n",
    "Auto ML is available under **Machine Learning - Experiments**. All we have to do is create a new Auto-ML experiment and select the table containing the ground-truth labels and join it with the features in the feature table.\n",
    "\n",
    "Our prediction target is the `churn` column.\n",
    "\n",
    "Click on **Start**, and Databricks will do the rest.\n",
    "\n",
    "While this is done using the UI, you can also leverage the [python API](https://docs.databricks.com/applications/machine-learning/automl.html#automl-python-api-1)\n",
    "\n",
    "<br>\n",
    "\n",
    "#### Join/Use features directly from the Feature Store from the [UI](https://docs.databricks.com/machine-learning/automl/train-ml-model-automl-ui.html#use-existing-feature-tables-from-databricks-feature-store) or [python API]()\n",
    "* Select the table containing the ground-truth labels (i.e. `dbdemos.schema.churn_label_table`)\n",
    "* Join remaining features from the feature table (i.e. `dbdemos.schema.churn_feature_table`)\n",
    "\n",
    "Refer to the __Quickstart__ version of this demo for an example of AutoML in action."
   ]
  },
  {
   "cell_type": "markdown",
   "metadata": {
    "application/vnd.databricks.v1+cell": {
     "cellMetadata": {},
     "inputWidgets": {},
     "nuid": "b13fba80-b3f3-4b38-a4d1-48926fb945fe",
     "showTitle": false,
     "tableResultSettingsMap": {},
     "title": ""
    }
   },
   "source": [
    "### Using the AutoML-generated notebook to build our model\n",
    "\n",
    "We have pre-run AutoML, which generated the notebook that trained the best model in the AutoML run. We take this notebook and improve on the model.\n",
    "\n",
    "Next step: [Explore the modfied version of the notebook generated from Auto-ML]($./02_automl_champion)"
   ]
  }
 ],
 "metadata": {
  "application/vnd.databricks.v1+notebook": {
   "computePreferences": null,
   "dashboards": [],
   "environmentMetadata": null,
   "language": "python",
   "notebookMetadata": {
    "pythonIndentUnit": 2
   },
   "notebookName": "01_feature_engineering",
   "widgets": {}
  },
  "language_info": {
   "name": "python"
  }
 },
 "nbformat": 4,
 "nbformat_minor": 0
}

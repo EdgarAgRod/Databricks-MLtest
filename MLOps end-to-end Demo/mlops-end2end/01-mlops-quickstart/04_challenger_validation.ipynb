{
 "cells": [
  {
   "cell_type": "markdown",
   "metadata": {
    "application/vnd.databricks.v1+cell": {
     "cellMetadata": {},
     "inputWidgets": {},
     "nuid": "7b41993d-e2fe-4d8c-8737-ee2a9aeac1df",
     "showTitle": false,
     "tableResultSettingsMap": {},
     "title": ""
    }
   },
   "source": [
    "# Challenger model validation\n",
    "\n",
    "This notebook performs validation tasks on the candidate __Challenger__ model.\n",
    "\n",
    "It goes through a few steps to validate the model before labelling it (by setting its alias) to `Challenger`.\n",
    "\n",
    "When organizations first start to put MLOps processes in place, they should consider having a \"human-in-the-loop\" to perform visual analyses to validate models before promoting them. As they get more familiar with the process, they can consider automating the steps in a __Workflow__ . The benefits of automation is to ensure that these validation checks are systematically performed before new models are integrated into inference pipelines or deployed for realtime serving. Of course, organizations can opt to retain a \"human-in-the-loop\" in any part of the process and put in place the degree of automation that suits its business needs.\n",
    "\n",
    "<img src=\"https://github.com/databricks-demos/dbdemos-resources/blob/main/images/product/mlops/mlops-uc-end2end-4.png?raw=true\" width=\"1200\">\n",
    "\n",
    "*Note: in a typical mlops setup, this would run as part of an automated job to validate new model. For this simpel demo, we'll run it as an interactive notebook.*\n",
    "\n",
    "<!-- Collect usage data (view). Remove it to disable collection or disable tracker during installation. View README for more details.  -->\n",
    "<img width=\"1px\" src=\"https://ppxrzfxige.execute-api.us-west-2.amazonaws.com/v1/analytics?category=data-science&org_id=1832744760933926&notebook=%2F01-mlops-quickstart%2F04_challenger_validation&demo_name=mlops-end2end&event=VIEW&path=%2F_dbdemos%2Fdata-science%2Fmlops-end2end%2F01-mlops-quickstart%2F04_challenger_validation&version=1\">"
   ]
  },
  {
   "cell_type": "markdown",
   "metadata": {
    "application/vnd.databricks.v1+cell": {
     "cellMetadata": {},
     "inputWidgets": {},
     "nuid": "3fc47433-8516-4a68-972b-21dc8cac48ac",
     "showTitle": false,
     "tableResultSettingsMap": {},
     "title": null
    }
   },
   "source": [
    "### A cluster has been created for this demo\n",
    "To run this demo, just select the cluster `dbdemos-mlops-end2end-edgar_aguilerarod` from the dropdown menu ([open cluster configuration](https://dbc-07122dbb-1c85.cloud.databricks.com/#setting/clusters/0102-173414-9ev1v92w/configuration)). <br />\n",
    "*Note: If the cluster was deleted after 30 days, you can re-create it with `dbdemos.create_cluster('mlops-end2end')` or re-install the demo: `dbdemos.install('mlops-end2end')`*"
   ]
  },
  {
   "cell_type": "markdown",
   "metadata": {
    "application/vnd.databricks.v1+cell": {
     "cellMetadata": {},
     "inputWidgets": {},
     "nuid": "455a0810-d880-4bbd-b8b6-86897c64ecea",
     "showTitle": false,
     "tableResultSettingsMap": {},
     "title": ""
    }
   },
   "source": [
    "\n",
    "## General Validation Checks\n",
    "\n",
    "<!--img style=\"float: right\" src=\"https://github.com/QuentinAmbard/databricks-demo/raw/main/retail/resources/images/churn-mlflow-webhook-1.png\" width=600 -->\n",
    "\n",
    "In the context of MLOps, there are more tests than simply how accurate a model will be.  To ensure the stability of our ML system and compliance with any regulatory requirements, we will subject each model added to the registry to a series of validation checks.  These include, but are not limited to:\n",
    "<br>\n",
    "* __Model documentation__\n",
    "* __Inference on production data__\n",
    "* __Champion-Challenger testing to ensure that business KPIs are acceptable__\n",
    "\n",
    "In this notebook we explore some approaches to performing these tests, and how we can add metadata to our models with tagging if they have passed a given test or not.\n",
    "\n",
    "This part is typically specific to your line of business and quality requirements.\n",
    "\n",
    "For each test, we'll add information using tags to know what has been validated in the model. We can also add Comments to a model if needed."
   ]
  },
  {
   "cell_type": "code",
   "execution_count": 0,
   "metadata": {
    "application/vnd.databricks.v1+cell": {
     "cellMetadata": {
      "byteLimit": 2048000,
      "rowLimit": 10000
     },
     "inputWidgets": {},
     "nuid": "a5260af5-fb50-4e71-84c2-a019d8dd5729",
     "showTitle": false,
     "tableResultSettingsMap": {},
     "title": ""
    }
   },
   "outputs": [],
   "source": [
    "%pip install --quiet mlflow==2.14.3\n",
    "dbutils.library.restartPython()"
   ]
  },
  {
   "cell_type": "code",
   "execution_count": 0,
   "metadata": {
    "application/vnd.databricks.v1+cell": {
     "cellMetadata": {
      "byteLimit": 2048000,
      "rowLimit": 10000
     },
     "inputWidgets": {},
     "nuid": "c84a2874-4476-496a-aa23-4bbe98872ffd",
     "showTitle": false,
     "tableResultSettingsMap": {},
     "title": ""
    },
    "jupyter": {
     "outputs_hidden": true
    }
   },
   "outputs": [],
   "source": [
    "%run ../_resources/00-setup"
   ]
  },
  {
   "cell_type": "markdown",
   "metadata": {
    "application/vnd.databricks.v1+cell": {
     "cellMetadata": {},
     "inputWidgets": {},
     "nuid": "6b37065f-3f58-44d6-b756-43c6f78d72ef",
     "showTitle": false,
     "tableResultSettingsMap": {},
     "title": ""
    }
   },
   "source": [
    "## Fetch Model information\n",
    "\n",
    "We will fetch the model information for the __Challenger__ model from Unity Catalog."
   ]
  },
  {
   "cell_type": "code",
   "execution_count": 0,
   "metadata": {
    "application/vnd.databricks.v1+cell": {
     "cellMetadata": {
      "byteLimit": 2048000,
      "rowLimit": 10000
     },
     "inputWidgets": {},
     "nuid": "2df2ff72-50fe-4956-a9ac-ed88603ddfac",
     "showTitle": false,
     "tableResultSettingsMap": {},
     "title": ""
    }
   },
   "outputs": [],
   "source": [
    "# We are interested in validating the Challenger model\n",
    "model_alias = \"Challenger\"\n",
    "model_name = f\"{catalog}.{db}.mlops_churn\"\n",
    "\n",
    "client = MlflowClient()\n",
    "model_details = client.get_model_version_by_alias(model_name, model_alias)\n",
    "model_version = int(model_details.version)\n",
    "\n",
    "print(f\"Validating {model_alias} model for {model_name} on model version {model_version}\")"
   ]
  },
  {
   "cell_type": "markdown",
   "metadata": {
    "application/vnd.databricks.v1+cell": {
     "cellMetadata": {},
     "inputWidgets": {},
     "nuid": "269002b9-79d3-446a-a096-79a0df3ab0b8",
     "showTitle": false,
     "tableResultSettingsMap": {},
     "title": ""
    }
   },
   "source": [
    "## Model checks"
   ]
  },
  {
   "cell_type": "markdown",
   "metadata": {
    "application/vnd.databricks.v1+cell": {
     "cellMetadata": {},
     "inputWidgets": {},
     "nuid": "6d71eb1c-88dc-493f-b9f0-242785b27f25",
     "showTitle": false,
     "tableResultSettingsMap": {},
     "title": ""
    }
   },
   "source": [
    "#### Description check\n",
    "\n",
    "Has the data scientist provided a description of the model being submitted?"
   ]
  },
  {
   "cell_type": "code",
   "execution_count": 0,
   "metadata": {
    "application/vnd.databricks.v1+cell": {
     "cellMetadata": {
      "byteLimit": 2048000,
      "rowLimit": 10000
     },
     "inputWidgets": {},
     "nuid": "8a069f03-bfe4-46c4-87c0-5076816ca72b",
     "showTitle": false,
     "tableResultSettingsMap": {},
     "title": ""
    }
   },
   "outputs": [],
   "source": [
    "# If there's no description or an insufficient number of charaters, tag accordingly\n",
    "if not model_details.description:\n",
    "  has_description = False\n",
    "  print(\"Please add model description\")\n",
    "elif not len(model_details.description) > 20:\n",
    "  has_description = False\n",
    "  print(\"Please add detailed model description (40 char min).\")\n",
    "else:\n",
    "  has_description = True\n",
    "\n",
    "print(f'Model {model_name} version {model_details.version} has description: {has_description}')\n",
    "client.set_model_version_tag(name=model_name, version=str(model_details.version), key=\"has_description\", value=has_description)"
   ]
  },
  {
   "cell_type": "markdown",
   "metadata": {
    "application/vnd.databricks.v1+cell": {
     "cellMetadata": {},
     "inputWidgets": {},
     "nuid": "f5af18bb-f800-4c31-861e-71967c3775b8",
     "showTitle": false,
     "tableResultSettingsMap": {},
     "title": ""
    }
   },
   "source": [
    "#### Model performance metric\n",
    "\n",
    "We want to validate the model performance metric. Typically, we want to compare this metric obtained for the Challenger model agaist that of the Champion model. Since we have yet to register a Champion model, we will only retrieve the metric for the Challenger model without doing a comparison.\n",
    "\n",
    "The registered model captures information about the MLflow experiment run, where the model metrics were logged during training. This gives you traceability from the deployed model back to the initial training runs.\n",
    "\n",
    "Here, we will use the F1 score for the out-of-sample test data that was set aside at training time."
   ]
  },
  {
   "cell_type": "code",
   "execution_count": 0,
   "metadata": {
    "application/vnd.databricks.v1+cell": {
     "cellMetadata": {
      "byteLimit": 2048000,
      "rowLimit": 10000
     },
     "inputWidgets": {},
     "nuid": "7ef53e2c-b382-4a66-bb21-c796733426a2",
     "showTitle": false,
     "tableResultSettingsMap": {},
     "title": ""
    }
   },
   "outputs": [],
   "source": [
    "model_run_id = model_details.run_id\n",
    "f1_score = mlflow.get_run(model_run_id).data.metrics['test_f1_score']\n",
    "\n",
    "try:\n",
    "    #Compare the challenger f1 score to the existing champion if it exists\n",
    "    champion_model = client.get_model_version_by_alias(model_name, \"Champion\")\n",
    "    champion_f1 = mlflow.get_run(champion_model.run_id).data.metrics['test_f1_score']\n",
    "    print(f'Champion f1 score: {champion_f1}. Challenger f1 score: {f1_score}.')\n",
    "    metric_f1_passed = f1_score >= champion_f1\n",
    "except:\n",
    "    print(f\"No Champion found. Accept the model as it's the first one.\")\n",
    "    metric_f1_passed = True\n",
    "\n",
    "print(f'Model {model_name} version {model_details.version} metric_f1_passed: {metric_f1_passed}')\n",
    "# Tag that F1 metric check has passed\n",
    "client.set_model_version_tag(name=model_name, version=model_details.version, key=\"metric_f1_passed\", value=metric_f1_passed)"
   ]
  },
  {
   "cell_type": "markdown",
   "metadata": {
    "application/vnd.databricks.v1+cell": {
     "cellMetadata": {},
     "inputWidgets": {},
     "nuid": "dd13fc5f-e600-4b49-a7f5-17cee1594257",
     "showTitle": false,
     "tableResultSettingsMap": {},
     "title": ""
    }
   },
   "source": [
    "### Benchmark or business metrics on the eval dataset\n",
    "\n",
    "Let's use our validation dataset to check the potential new model impact.\n",
    "\n",
    "***Note: This is just to evaluate our models, not to be confused with A/B testing**. A/B testing is done online, splitting the traffic to 2 models and requires a feedback loop to evaluate the effect of the prediction (e.g. after a prediction, did the discount we offered to the customer prevent the churn?). We will cover A/B testing in the advanced part.*"
   ]
  },
  {
   "cell_type": "code",
   "execution_count": 0,
   "metadata": {
    "application/vnd.databricks.v1+cell": {
     "cellMetadata": {
      "byteLimit": 2048000,
      "rowLimit": 10000
     },
     "inputWidgets": {},
     "nuid": "b7ddb3f3-79e7-44cb-a022-6efe4d4ef8ed",
     "showTitle": false,
     "tableResultSettingsMap": {},
     "title": ""
    }
   },
   "outputs": [],
   "source": [
    "import pyspark.sql.functions as F\n",
    "#get our validation dataset:\n",
    "validation_df = spark.table('mlops_churn_training').filter(\"split='validate'\")\n",
    "\n",
    "#Call the model with the given alias and return the prediction\n",
    "def predict_churn(validation_df, model_alias):\n",
    "    model = mlflow.pyfunc.spark_udf(spark, model_uri=f\"models:/{catalog}.{db}.mlops_churn@{model_alias}\")\n",
    "    return validation_df.withColumn('predictions', model(*model.metadata.get_input_schema().input_names()))"
   ]
  },
  {
   "cell_type": "code",
   "execution_count": 0,
   "metadata": {
    "application/vnd.databricks.v1+cell": {
     "cellMetadata": {
      "byteLimit": 2048000,
      "rowLimit": 10000
     },
     "inputWidgets": {},
     "nuid": "98525ff0-c11f-426d-a79d-b695b55db923",
     "showTitle": false,
     "tableResultSettingsMap": {},
     "title": ""
    }
   },
   "outputs": [],
   "source": [
    "import pandas as pd\n",
    "import plotly.express as px\n",
    "from sklearn.metrics import confusion_matrix\n",
    "\n",
    "#Note: this is over-simplified and depends of your use-case, but the idea is to evaluate our model against business metrics\n",
    "cost_of_customer_churn = 2000 #in dollar\n",
    "cost_of_discount = 500 #in dollar\n",
    "\n",
    "cost_true_negative = 0 #did not churn, we did not give him the discount\n",
    "cost_false_negative = cost_of_customer_churn #did churn, we lost the customer\n",
    "cost_true_positive = cost_of_customer_churn -cost_of_discount #We avoided churn with the discount\n",
    "cost_false_positive = -cost_of_discount #doesn't churn, we gave the discount for free\n",
    "\n",
    "def get_model_value_in_dollar(model_alias):\n",
    "    # Convert preds_df to Pandas DataFrame\n",
    "    model_predictions = predict_churn(validation_df, model_alias).toPandas()\n",
    "    # Calculate the confusion matrix\n",
    "    tn, fp, fn, tp = confusion_matrix(model_predictions['churn'], model_predictions['predictions']).ravel()\n",
    "    return tn * cost_true_negative+ fp * cost_false_positive + fn * cost_false_negative + tp * cost_true_positive\n",
    "#add exception to catch non-existing model champion yet\n",
    "is_champ_model_exist = True\n",
    "try:\n",
    "    client.get_model_version_by_alias(f\"{catalog}.{db}.mlops_churn\", \"Champion\")\n",
    "    print(\"Model already registered as Champion\")\n",
    "except Exception as error:\n",
    "    print(\"An error occurred:\", type(error).__name__, \"It means no champion model yet exist\")\n",
    "    is_champ_model_exist = False\n",
    "if is_champ_model_exist:\n",
    "    champion_potential_revenue_gain = get_model_value_in_dollar(\"Champion\")\n",
    "    challenger_potential_revenue_gain = get_model_value_in_dollar(\"Challenger\")\n",
    "\n",
    "try:\n",
    "    #Compare the challenger f1 score to the existing champion if it exists\n",
    "    champion_potential_revenue_gain = get_model_value_in_dollar(\"Champion\")\n",
    "except:\n",
    "    print(f\"No Champion found. Accept the model as it's the first one.\")\n",
    "    champion_potential_revenue_gain = 0\n",
    "    \n",
    "challenger_potential_revenue_gain = get_model_value_in_dollar(\"Challenger\")\n",
    "\n",
    "data = {'Model Alias': ['Challenger', 'Champion'],\n",
    "        'Potential Revenue Gain': [challenger_potential_revenue_gain, champion_potential_revenue_gain]}\n",
    "\n",
    "# Create a bar plot using plotly express\n",
    "px.bar(data, x='Model Alias', y='Potential Revenue Gain', color='Model Alias',\n",
    "    labels={'Potential Revenue Gain': 'Revenue Impacted'},\n",
    "    title='Business Metrics - Revenue Impacted')"
   ]
  },
  {
   "cell_type": "markdown",
   "metadata": {
    "application/vnd.databricks.v1+cell": {
     "cellMetadata": {},
     "inputWidgets": {},
     "nuid": "dcc97cba-d907-4292-9b72-7f71f0b7fbd2",
     "showTitle": false,
     "tableResultSettingsMap": {},
     "title": ""
    }
   },
   "source": [
    "## Validation results\n",
    "\n",
    "That's it! We have demonstrated some simple checks on the model. Let's take a look at the validation results."
   ]
  },
  {
   "cell_type": "code",
   "execution_count": 0,
   "metadata": {
    "application/vnd.databricks.v1+cell": {
     "cellMetadata": {
      "byteLimit": 2048000,
      "rowLimit": 10000
     },
     "inputWidgets": {},
     "nuid": "726fbb6e-5b0d-447b-a600-40de1d9704d2",
     "showTitle": false,
     "tableResultSettingsMap": {},
     "title": ""
    }
   },
   "outputs": [],
   "source": [
    "results = client.get_model_version(model_name, model_version)\n",
    "results.tags"
   ]
  },
  {
   "cell_type": "markdown",
   "metadata": {
    "application/vnd.databricks.v1+cell": {
     "cellMetadata": {},
     "inputWidgets": {},
     "nuid": "c088ba78-2e59-40eb-9711-d57979b30f3c",
     "showTitle": false,
     "tableResultSettingsMap": {},
     "title": ""
    }
   },
   "source": [
    "## Promoting the Challenger to Champion\n",
    "\n",
    "When we are satisfied with the results of the __Challenger__ model, we can then promote it to Champion. This is done by setting its alias to `@Champion`. Inference pipelines that load the model using the `@Champion` alias will then be loading this new model. The alias on the older Champion model, if there is one, will be automatically unset. The model retains its `@Challenger` alias until a newer Challenger model is deployed with the alias to replace it."
   ]
  },
  {
   "cell_type": "code",
   "execution_count": 0,
   "metadata": {
    "application/vnd.databricks.v1+cell": {
     "cellMetadata": {
      "byteLimit": 2048000,
      "rowLimit": 10000
     },
     "inputWidgets": {},
     "nuid": "1d544efb-5aef-4ac3-a122-ad4c7598ab37",
     "showTitle": false,
     "tableResultSettingsMap": {},
     "title": ""
    }
   },
   "outputs": [],
   "source": [
    "if results.tags[\"has_description\"] == \"True\" and results.tags[\"metric_f1_passed\"] == \"True\":\n",
    "  print('register model as Champion!')\n",
    "  client.set_registered_model_alias(\n",
    "    name=model_name,\n",
    "    alias=\"Champion\",\n",
    "    version=model_version\n",
    "  )\n",
    "else:\n",
    "  raise Exception(\"Model not ready for promotion\")"
   ]
  },
  {
   "cell_type": "markdown",
   "metadata": {
    "application/vnd.databricks.v1+cell": {
     "cellMetadata": {},
     "inputWidgets": {},
     "nuid": "865977dc-5fd8-42fd-aff4-952962263732",
     "showTitle": false,
     "tableResultSettingsMap": {},
     "title": ""
    }
   },
   "source": [
    "### Congratulations, our model is now validated and promoted accordingly\n",
    "\n",
    "We now have the certainty that our model is ready to be used in inference pipelines and in realtime serving endpoints, as it matches our validation standards.\n",
    "\n",
    "\n",
    "Next: [Run batch inference from our newly promoted Champion model]($./05_batch_inference)"
   ]
  }
 ],
 "metadata": {
  "application/vnd.databricks.v1+notebook": {
   "computePreferences": null,
   "dashboards": [],
   "environmentMetadata": null,
   "language": "python",
   "notebookMetadata": {
    "pythonIndentUnit": 2
   },
   "notebookName": "04_challenger_validation",
   "widgets": {}
  },
  "language_info": {
   "name": "python"
  }
 },
 "nbformat": 4,
 "nbformat_minor": 0
}

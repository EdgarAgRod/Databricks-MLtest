{
 "cells": [
  {
   "cell_type": "markdown",
   "metadata": {
    "application/vnd.databricks.v1+cell": {
     "cellMetadata": {},
     "inputWidgets": {},
     "nuid": "a8e5f96e-dd55-4dc0-87ea-0f627094e4b8",
     "showTitle": false,
     "tableResultSettingsMap": {},
     "title": ""
    }
   },
   "source": [
    "# End-to-End MLOps demo with MLFlow, Auto ML and Models in Unity Catalog\n",
    "\n",
    "## Challenges moving ML project into production\n",
    "\n",
    "Moving ML project from a standalone notebook to a production-grade data pipeline is complex and require multiple competencies.\n",
    "\n",
    "Having a model up and running in a notebook isn't enough. We need to cover the end to end ML Project life cycle and solve the following challenges:\n",
    "\n",
    "* Update data over time (production-grade ingestion pipeline)\n",
    "* How to save, share and re-use ML features in the organization\n",
    "* How to ensure a new model version respect quality standard and won't break the pipeline\n",
    "* Model governance: what is deployed, how is it trained, by who, which data?\n",
    "* How to monitor and re-train the model...\n",
    "\n",
    "In addition, these project typically invole multiple teams, creating friction and potential silos\n",
    "\n",
    "* Data Engineers, in charge of ingesting, preparing and exposing the data\n",
    "* Data Scientist, expert in data analysis, building ML model\n",
    "* ML engineers, setuping the ML infrastructure pipelines (similar to devops)\n",
    "\n",
    "This has a real impact on the business, slowing down projects and preventing them from being deployed in production and bringing ROI.\n",
    "\n",
    "## What's MLOps ?\n",
    "\n",
    "MLOps is is a set of standards, tools, processes and methodology that aims to optimize time, efficiency and quality while ensuring governance in ML projects.\n",
    "\n",
    "MLOps orchestrate a project life-cycle and adds the glue required between the component and teams to smoothly implement such ML pipelines.\n",
    "\n",
    "Databricks is uniquely positioned to solve this challenge with the Lakehouse pattern. Not only we bring Data Engineers, Data Scientists and ML Engineers together in a unique platform, but we also provide tools to orchestrate ML project and accelerate the go to production.\n",
    "\n",
    "## MLOps process walkthrough\n",
    "\n",
    "In this quickstart demo, we'll walkthrough a few common steps in the MLOps process. The end result of this process is a model used to power a dashboard for downstream business stakeholders which is:\n",
    "* preparing features\n",
    "* training a model for deployment\n",
    "* registering the model for its use to be goverened\n",
    "* validating the model in a champion-challenger analysis\n",
    "* invoking a trained ML model as a pySpark UDF\n",
    "\n",
    "\n",
    "<img src=\"https://github.com/databricks-demos/dbdemos-resources/blob/main/images/product/mlops/mlops-uc-end2end-0.png?raw=true\" width=\"1200\">\n",
    "\n",
    "<!-- Collect usage data (view). Remove it to disable collection or disable tracker during installation. View README for more details.  -->\n",
    "<img width=\"1px\" src=\"https://ppxrzfxige.execute-api.us-west-2.amazonaws.com/v1/analytics?category=data-science&org_id=1832744760933926&notebook=%2F01-mlops-quickstart%2F00_mlops_end2end_quickstart_presentation&demo_name=mlops-end2end&event=VIEW&path=%2F_dbdemos%2Fdata-science%2Fmlops-end2end%2F01-mlops-quickstart%2F00_mlops_end2end_quickstart_presentation&version=1\">"
   ]
  },
  {
   "cell_type": "markdown",
   "metadata": {
    "application/vnd.databricks.v1+cell": {
     "cellMetadata": {},
     "inputWidgets": {},
     "nuid": "f3985a30-ca3a-4baf-a7f5-1eae035b3a12",
     "showTitle": false,
     "tableResultSettingsMap": {},
     "title": null
    }
   },
   "source": [
    "### A cluster has been created for this demo\n",
    "To run this demo, just select the cluster `dbdemos-mlops-end2end-edgar_aguilerarod` from the dropdown menu ([open cluster configuration](https://dbc-07122dbb-1c85.cloud.databricks.com/#setting/clusters/0102-173414-9ev1v92w/configuration)). <br />\n",
    "*Note: If the cluster was deleted after 30 days, you can re-create it with `dbdemos.create_cluster('mlops-end2end')` or re-install the demo: `dbdemos.install('mlops-end2end')`*"
   ]
  },
  {
   "cell_type": "markdown",
   "metadata": {
    "application/vnd.databricks.v1+cell": {
     "cellMetadata": {},
     "inputWidgets": {},
     "nuid": "992a4091-ece9-4b3d-8693-45586a534754",
     "showTitle": false,
     "tableResultSettingsMap": {},
     "title": ""
    }
   },
   "source": [
    "In this first quickstart, we'll cover the foundation of MLOps.\n",
    "\n",
    "The advanced section will go into more details, including:\n",
    "- Model serving\n",
    "- Realtime Feature serving with Online Tables\n",
    "- A/B testing \n",
    "- Automated re-training\n",
    "- Infra setup abd hooks with Databricks MLOps Stack\n",
    "- ..."
   ]
  },
  {
   "cell_type": "code",
   "execution_count": 0,
   "metadata": {
    "application/vnd.databricks.v1+cell": {
     "cellMetadata": {
      "byteLimit": 2048000,
      "rowLimit": 10000
     },
     "inputWidgets": {},
     "nuid": "950cffb6-69f3-4047-a383-e7e01f3d2d61",
     "showTitle": false,
     "tableResultSettingsMap": {},
     "title": ""
    }
   },
   "outputs": [],
   "source": [
    "%restart_python"
   ]
  },
  {
   "cell_type": "code",
   "execution_count": 0,
   "metadata": {
    "application/vnd.databricks.v1+cell": {
     "cellMetadata": {
      "byteLimit": 2048000,
      "rowLimit": 10000
     },
     "inputWidgets": {},
     "nuid": "e22fde3a-08d1-44f6-a546-0548b62b2b87",
     "showTitle": false,
     "tableResultSettingsMap": {},
     "title": ""
    }
   },
   "outputs": [],
   "source": [
    "%run ../_resources/00-setup"
   ]
  },
  {
   "cell_type": "markdown",
   "metadata": {
    "application/vnd.databricks.v1+cell": {
     "cellMetadata": {},
     "inputWidgets": {},
     "nuid": "04389ba9-5139-4dd5-9c90-da2d8027504b",
     "showTitle": false,
     "tableResultSettingsMap": {},
     "title": ""
    }
   },
   "source": [
    "## Customer churn detection\n",
    "\n",
    "To explore MLOps, we'll be implementing a customer churn model.\n",
    "\n",
    "Our marketing team asked us to create a Dashboard tracking Churn risk evolution. In addition, we need to provide our renewal team with a daily list of customers at Churn risk to increase our final revenue.\n",
    "\n",
    "Our Data Engineer team provided us a dataset collecting information on our customer base, including churn information. That's where our implementation starts.\n",
    "\n",
    "Let's see how we can implement such a model, but also provide our marketing and renewal team with Dashboards to track and analyze our Churn prediction.\n",
    "\n",
    "Ultimately, you'll build able to build a complete DBSQL Churn Dashboard containing all our customer & churn information, but also start a Genie space to ask any question using plain english!"
   ]
  },
  {
   "cell_type": "code",
   "execution_count": 0,
   "metadata": {
    "application/vnd.databricks.v1+cell": {
     "cellMetadata": {
      "byteLimit": 2048000,
      "rowLimit": 10000
     },
     "inputWidgets": {},
     "nuid": "5ddf836e-4026-4717-8b02-763da38cb00e",
     "showTitle": true,
     "tableResultSettingsMap": {},
     "title": "Exploring our customer dataset"
    }
   },
   "outputs": [],
   "source": [
    "telcoDF = spark.table(\"mlops_churn_bronze_customers\")\n",
    "display(telcoDF)"
   ]
  },
  {
   "cell_type": "markdown",
   "metadata": {
    "application/vnd.databricks.v1+cell": {
     "cellMetadata": {},
     "inputWidgets": {},
     "nuid": "a266b26b-d02c-4095-88b4-ec4d11cf356c",
     "showTitle": false,
     "tableResultSettingsMap": {},
     "title": ""
    }
   },
   "source": [
    "## Feature Engineering\n",
    "Our first job is to analyze the data, and prepare a set of features.\n",
    "\n",
    "\n",
    "Next: [Analyze the data and prepare features]($./01_feature_engineering)"
   ]
  }
 ],
 "metadata": {
  "application/vnd.databricks.v1+notebook": {
   "computePreferences": null,
   "dashboards": [],
   "environmentMetadata": null,
   "language": "python",
   "notebookMetadata": {
    "pythonIndentUnit": 2
   },
   "notebookName": "00_mlops_end2end_quickstart_presentation",
   "widgets": {}
  },
  "language_info": {
   "name": "python"
  }
 },
 "nbformat": 4,
 "nbformat_minor": 0
}
